{
 "cells": [
  {
   "cell_type": "markdown",
   "id": "bcd3c18e",
   "metadata": {
    "colab_type": "text",
    "id": "view-in-github",
    "papermill": {
     "duration": 0.001896,
     "end_time": "2025-09-29T22:49:17.903509",
     "exception": false,
     "start_time": "2025-09-29T22:49:17.901613",
     "status": "completed"
    },
    "tags": []
   },
   "source": [
    "<a href=\"https://colab.research.google.com/github/yesicamilagros/nuevo-repositorio/blob/main/POWER_BI.ipynb\" target=\"_parent\"><img src=\"https://colab.research.google.com/assets/colab-badge.svg\" alt=\"Open In Colab\"/></a>"
   ]
  },
  {
   "cell_type": "code",
   "execution_count": 1,
   "id": "839fbb81",
   "metadata": {
    "colab": {
     "base_uri": "https://localhost:8080/",
     "height": 563
    },
    "execution": {
     "iopub.execute_input": "2025-09-29T22:49:17.906904Z",
     "iopub.status.busy": "2025-09-29T22:49:17.906687Z",
     "iopub.status.idle": "2025-09-29T22:49:17.919097Z",
     "shell.execute_reply": "2025-09-29T22:49:17.918326Z"
    },
    "id": "tC1xwCc8hdN4",
    "outputId": "123f3607-9a14-46e7-8e8e-90e94a943815",
    "papermill": {
     "duration": 0.015224,
     "end_time": "2025-09-29T22:49:17.920166",
     "exception": false,
     "start_time": "2025-09-29T22:49:17.904942",
     "status": "completed"
    },
    "tags": []
   },
   "outputs": [
    {
     "name": "stderr",
     "output_type": "stream",
     "text": [
      "/opt/hostedtoolcache/Python/3.9.23/x64/lib/python3.9/site-packages/IPython/core/display.py:431: UserWarning: Consider using IPython.display.IFrame instead\n",
      "  warnings.warn(\"Consider using IPython.display.IFrame instead\")\n"
     ]
    },
    {
     "data": {
      "text/html": [
       "<iframe title=\"datos_prueba\" width=\"1140\" height=\"541.25\" src=\"https://app.powerbi.com/view?r=eyJrIjoiMWE0ZmM0NjQtMmE5Yy00MDVjLTgwNWYtYTFlMDE5OWIwNjUxIiwidCI6IjFmODEwNTkyLTJiMTAtNGQyZi05ZDFkLWNhMzFiMjY5MTVkZSIsImMiOjR9\" frameborder=\"0\" allowFullScreen=\"true\"></iframe>"
      ],
      "text/plain": [
       "<IPython.core.display.HTML object>"
      ]
     },
     "execution_count": 1,
     "metadata": {},
     "output_type": "execute_result"
    }
   ],
   "source": [
    "from IPython.display import HTML\n",
    "\n",
    "# URL del informe (reemplaza con tu enlace)\n",
    "dashboard_url = \"https://app.powerbi.com/reportEmbed?reportId=05136ecc-ff2d-4c9e-b6d1-3c62b4ba8693&autoAuth=true&ctid=1f810592-2b10-4d2f-9d1d-ca31b26915de\"\n",
    "\n",
    "# Crear el iframe con permisos adicionales\n",
    "iframe_code = f\"\"\"<iframe title=\"datos_prueba\" width=\"1140\" height=\"541.25\" src=\"https://app.powerbi.com/view?r=eyJrIjoiMWE0ZmM0NjQtMmE5Yy00MDVjLTgwNWYtYTFlMDE5OWIwNjUxIiwidCI6IjFmODEwNTkyLTJiMTAtNGQyZi05ZDFkLWNhMzFiMjY5MTVkZSIsImMiOjR9\" frameborder=\"0\" allowFullScreen=\"true\"></iframe>\"\"\"\n",
    "\n",
    "HTML(iframe_code)"
   ]
  },
  {
   "cell_type": "code",
   "execution_count": 2,
   "id": "5ff41ccf",
   "metadata": {
    "colab": {
     "base_uri": "https://localhost:8080/"
    },
    "execution": {
     "iopub.execute_input": "2025-09-29T22:49:17.923510Z",
     "iopub.status.busy": "2025-09-29T22:49:17.923281Z",
     "iopub.status.idle": "2025-09-29T22:49:18.934864Z",
     "shell.execute_reply": "2025-09-29T22:49:18.934048Z"
    },
    "id": "8kL6B_9Ghlni",
    "outputId": "94056215-8abe-48c7-ec12-401e0e08a164",
    "papermill": {
     "duration": 1.014718,
     "end_time": "2025-09-29T22:49:18.936206",
     "exception": false,
     "start_time": "2025-09-29T22:49:17.921488",
     "status": "completed"
    },
    "tags": []
   },
   "outputs": [
    {
     "name": "stdout",
     "output_type": "stream",
     "text": [
      "Collecting pytz\r\n",
      "  Downloading pytz-2025.2-py2.py3-none-any.whl.metadata (22 kB)\r\n",
      "Downloading pytz-2025.2-py2.py3-none-any.whl (509 kB)\r\n"
     ]
    },
    {
     "name": "stdout",
     "output_type": "stream",
     "text": [
      "Installing collected packages: pytz\r\n"
     ]
    },
    {
     "name": "stdout",
     "output_type": "stream",
     "text": [
      "Successfully installed pytz-2025.2\r\n"
     ]
    }
   ],
   "source": [
    "!pip install pytz"
   ]
  },
  {
   "cell_type": "code",
   "execution_count": 3,
   "id": "62817252",
   "metadata": {
    "colab": {
     "base_uri": "https://localhost:8080/"
    },
    "execution": {
     "iopub.execute_input": "2025-09-29T22:49:18.940267Z",
     "iopub.status.busy": "2025-09-29T22:49:18.940058Z",
     "iopub.status.idle": "2025-09-29T22:49:18.958744Z",
     "shell.execute_reply": "2025-09-29T22:49:18.958178Z"
    },
    "id": "6G1qojr1hlgR",
    "outputId": "40fcdbb3-ecc2-4bd5-ca13-43953c92bf1b",
    "papermill": {
     "duration": 0.021788,
     "end_time": "2025-09-29T22:49:18.959779",
     "exception": false,
     "start_time": "2025-09-29T22:49:18.937991",
     "status": "completed"
    },
    "tags": []
   },
   "outputs": [
    {
     "name": "stdout",
     "output_type": "stream",
     "text": [
      "Fecha y hora actual : 2025-09-29 17:49\n"
     ]
    }
   ],
   "source": [
    "from datetime import datetime\n",
    "import pytz\n",
    "\n",
    "def obtener_hora():\n",
    "    zona_horaria_peru = pytz.timezone(\"America/Lima\")\n",
    "    hora_actual_peru = datetime.now(zona_horaria_peru)\n",
    "    return hora_actual_peru.strftime(\"%Y-%m-%d %H:%M\")\n",
    "\n",
    "# Ejemplo de uso\n",
    "hora_peru = obtener_hora()\n",
    "print(\"Fecha y hora actual :\", hora_peru)\n"
   ]
  }
 ],
 "metadata": {
  "colab": {
   "authorship_tag": "ABX9TyM1Wz15DI8zlc4FjlihRLfa",
   "include_colab_link": true,
   "provenance": []
  },
  "kernelspec": {
   "display_name": "Python 3",
   "name": "python3"
  },
  "language_info": {
   "codemirror_mode": {
    "name": "ipython",
    "version": 3
   },
   "file_extension": ".py",
   "mimetype": "text/x-python",
   "name": "python",
   "nbconvert_exporter": "python",
   "pygments_lexer": "ipython3",
   "version": "3.9.23"
  },
  "papermill": {
   "default_parameters": {},
   "duration": 2.5457,
   "end_time": "2025-09-29T22:49:19.077913",
   "environment_variables": {},
   "exception": null,
   "input_path": "POWER_BI.ipynb",
   "output_path": "output.ipynb",
   "parameters": {},
   "start_time": "2025-09-29T22:49:16.532213",
   "version": "2.6.0"
  }
 },
 "nbformat": 4,
 "nbformat_minor": 5
}