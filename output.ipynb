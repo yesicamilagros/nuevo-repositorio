{
 "cells": [
  {
   "cell_type": "markdown",
   "id": "124f7efa",
   "metadata": {
    "colab_type": "text",
    "id": "view-in-github",
    "papermill": {
     "duration": 0.001619,
     "end_time": "2025-08-27T21:29:03.645825",
     "exception": false,
     "start_time": "2025-08-27T21:29:03.644206",
     "status": "completed"
    },
    "tags": []
   },
   "source": [
    "<a href=\"https://colab.research.google.com/github/yesicamilagros/nuevo-repositorio/blob/main/POWER_BI.ipynb\" target=\"_parent\"><img src=\"https://colab.research.google.com/assets/colab-badge.svg\" alt=\"Open In Colab\"/></a>"
   ]
  },
  {
   "cell_type": "code",
   "execution_count": 1,
   "id": "068242a5",
   "metadata": {
    "colab": {
     "base_uri": "https://localhost:8080/",
     "height": 563
    },
    "execution": {
     "iopub.execute_input": "2025-08-27T21:29:03.649110Z",
     "iopub.status.busy": "2025-08-27T21:29:03.648913Z",
     "iopub.status.idle": "2025-08-27T21:29:03.660259Z",
     "shell.execute_reply": "2025-08-27T21:29:03.659642Z"
    },
    "id": "tC1xwCc8hdN4",
    "outputId": "123f3607-9a14-46e7-8e8e-90e94a943815",
    "papermill": {
     "duration": 0.014025,
     "end_time": "2025-08-27T21:29:03.661287",
     "exception": false,
     "start_time": "2025-08-27T21:29:03.647262",
     "status": "completed"
    },
    "tags": []
   },
   "outputs": [
    {
     "name": "stderr",
     "output_type": "stream",
     "text": [
      "/opt/hostedtoolcache/Python/3.9.23/x64/lib/python3.9/site-packages/IPython/core/display.py:431: UserWarning: Consider using IPython.display.IFrame instead\n",
      "  warnings.warn(\"Consider using IPython.display.IFrame instead\")\n"
     ]
    },
    {
     "data": {
      "text/html": [
       "<iframe title=\"datos_prueba\" width=\"1140\" height=\"541.25\" src=\"https://app.powerbi.com/view?r=eyJrIjoiMWE0ZmM0NjQtMmE5Yy00MDVjLTgwNWYtYTFlMDE5OWIwNjUxIiwidCI6IjFmODEwNTkyLTJiMTAtNGQyZi05ZDFkLWNhMzFiMjY5MTVkZSIsImMiOjR9\" frameborder=\"0\" allowFullScreen=\"true\"></iframe>"
      ],
      "text/plain": [
       "<IPython.core.display.HTML object>"
      ]
     },
     "execution_count": 1,
     "metadata": {},
     "output_type": "execute_result"
    }
   ],
   "source": [
    "from IPython.display import HTML\n",
    "\n",
    "# URL del informe (reemplaza con tu enlace)\n",
    "dashboard_url = \"https://app.powerbi.com/reportEmbed?reportId=05136ecc-ff2d-4c9e-b6d1-3c62b4ba8693&autoAuth=true&ctid=1f810592-2b10-4d2f-9d1d-ca31b26915de\"\n",
    "\n",
    "# Crear el iframe con permisos adicionales\n",
    "iframe_code = f\"\"\"<iframe title=\"datos_prueba\" width=\"1140\" height=\"541.25\" src=\"https://app.powerbi.com/view?r=eyJrIjoiMWE0ZmM0NjQtMmE5Yy00MDVjLTgwNWYtYTFlMDE5OWIwNjUxIiwidCI6IjFmODEwNTkyLTJiMTAtNGQyZi05ZDFkLWNhMzFiMjY5MTVkZSIsImMiOjR9\" frameborder=\"0\" allowFullScreen=\"true\"></iframe>\"\"\"\n",
    "\n",
    "HTML(iframe_code)"
   ]
  },
  {
   "cell_type": "code",
   "execution_count": 2,
   "id": "e36c5513",
   "metadata": {
    "colab": {
     "base_uri": "https://localhost:8080/"
    },
    "execution": {
     "iopub.execute_input": "2025-08-27T21:29:03.664410Z",
     "iopub.status.busy": "2025-08-27T21:29:03.664193Z",
     "iopub.status.idle": "2025-08-27T21:29:04.623949Z",
     "shell.execute_reply": "2025-08-27T21:29:04.623231Z"
    },
    "id": "8kL6B_9Ghlni",
    "outputId": "94056215-8abe-48c7-ec12-401e0e08a164",
    "papermill": {
     "duration": 0.962616,
     "end_time": "2025-08-27T21:29:04.625195",
     "exception": false,
     "start_time": "2025-08-27T21:29:03.662579",
     "status": "completed"
    },
    "tags": []
   },
   "outputs": [
    {
     "name": "stdout",
     "output_type": "stream",
     "text": [
      "Collecting pytz\r\n",
      "  Downloading pytz-2025.2-py2.py3-none-any.whl.metadata (22 kB)\r\n",
      "Downloading pytz-2025.2-py2.py3-none-any.whl (509 kB)\r\n"
     ]
    },
    {
     "name": "stdout",
     "output_type": "stream",
     "text": [
      "Installing collected packages: pytz\r\n"
     ]
    },
    {
     "name": "stdout",
     "output_type": "stream",
     "text": [
      "Successfully installed pytz-2025.2\r\n"
     ]
    }
   ],
   "source": [
    "!pip install pytz"
   ]
  },
  {
   "cell_type": "code",
   "execution_count": 3,
   "id": "5a26e604",
   "metadata": {
    "colab": {
     "base_uri": "https://localhost:8080/"
    },
    "execution": {
     "iopub.execute_input": "2025-08-27T21:29:04.629243Z",
     "iopub.status.busy": "2025-08-27T21:29:04.629047Z",
     "iopub.status.idle": "2025-08-27T21:29:04.646960Z",
     "shell.execute_reply": "2025-08-27T21:29:04.646417Z"
    },
    "id": "6G1qojr1hlgR",
    "outputId": "40fcdbb3-ecc2-4bd5-ca13-43953c92bf1b",
    "papermill": {
     "duration": 0.021001,
     "end_time": "2025-08-27T21:29:04.647967",
     "exception": false,
     "start_time": "2025-08-27T21:29:04.626966",
     "status": "completed"
    },
    "tags": []
   },
   "outputs": [
    {
     "name": "stdout",
     "output_type": "stream",
     "text": [
      "Fecha y hora actual : 2025-08-27 16:29\n"
     ]
    }
   ],
   "source": [
    "from datetime import datetime\n",
    "import pytz\n",
    "\n",
    "def obtener_hora():\n",
    "    zona_horaria_peru = pytz.timezone(\"America/Lima\")\n",
    "    hora_actual_peru = datetime.now(zona_horaria_peru)\n",
    "    return hora_actual_peru.strftime(\"%Y-%m-%d %H:%M\")\n",
    "\n",
    "# Ejemplo de uso\n",
    "hora_peru = obtener_hora()\n",
    "print(\"Fecha y hora actual :\", hora_peru)\n"
   ]
  }
 ],
 "metadata": {
  "colab": {
   "authorship_tag": "ABX9TyM1Wz15DI8zlc4FjlihRLfa",
   "include_colab_link": true,
   "provenance": []
  },
  "kernelspec": {
   "display_name": "Python 3",
   "name": "python3"
  },
  "language_info": {
   "codemirror_mode": {
    "name": "ipython",
    "version": 3
   },
   "file_extension": ".py",
   "mimetype": "text/x-python",
   "name": "python",
   "nbconvert_exporter": "python",
   "pygments_lexer": "ipython3",
   "version": "3.9.23"
  },
  "papermill": {
   "default_parameters": {},
   "duration": 2.912929,
   "end_time": "2025-08-27T21:29:04.764717",
   "environment_variables": {},
   "exception": null,
   "input_path": "POWER_BI.ipynb",
   "output_path": "output.ipynb",
   "parameters": {},
   "start_time": "2025-08-27T21:29:01.851788",
   "version": "2.6.0"
  }
 },
 "nbformat": 4,
 "nbformat_minor": 5
}