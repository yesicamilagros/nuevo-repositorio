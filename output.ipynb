{
 "cells": [
  {
   "cell_type": "markdown",
   "id": "f5cf82f2",
   "metadata": {
    "colab_type": "text",
    "id": "view-in-github",
    "papermill": {
     "duration": 0.001913,
     "end_time": "2025-04-02T21:29:05.358442",
     "exception": false,
     "start_time": "2025-04-02T21:29:05.356529",
     "status": "completed"
    },
    "tags": []
   },
   "source": [
    "<a href=\"https://colab.research.google.com/github/yesicamilagros/nuevo-repositorio/blob/main/POWER_BI.ipynb\" target=\"_parent\"><img src=\"https://colab.research.google.com/assets/colab-badge.svg\" alt=\"Open In Colab\"/></a>"
   ]
  },
  {
   "cell_type": "code",
   "execution_count": 1,
   "id": "ba8363df",
   "metadata": {
    "colab": {
     "base_uri": "https://localhost:8080/",
     "height": 563
    },
    "execution": {
     "iopub.execute_input": "2025-04-02T21:29:05.362548Z",
     "iopub.status.busy": "2025-04-02T21:29:05.361961Z",
     "iopub.status.idle": "2025-04-02T21:29:05.374146Z",
     "shell.execute_reply": "2025-04-02T21:29:05.373436Z"
    },
    "id": "tC1xwCc8hdN4",
    "outputId": "123f3607-9a14-46e7-8e8e-90e94a943815",
    "papermill": {
     "duration": 0.015407,
     "end_time": "2025-04-02T21:29:05.375297",
     "exception": false,
     "start_time": "2025-04-02T21:29:05.359890",
     "status": "completed"
    },
    "tags": []
   },
   "outputs": [
    {
     "name": "stderr",
     "output_type": "stream",
     "text": [
      "/opt/hostedtoolcache/Python/3.9.21/x64/lib/python3.9/site-packages/IPython/core/display.py:431: UserWarning: Consider using IPython.display.IFrame instead\n",
      "  warnings.warn(\"Consider using IPython.display.IFrame instead\")\n"
     ]
    },
    {
     "data": {
      "text/html": [
       "<iframe title=\"datos_prueba\" width=\"1140\" height=\"541.25\" src=\"https://app.powerbi.com/view?r=eyJrIjoiMWE0ZmM0NjQtMmE5Yy00MDVjLTgwNWYtYTFlMDE5OWIwNjUxIiwidCI6IjFmODEwNTkyLTJiMTAtNGQyZi05ZDFkLWNhMzFiMjY5MTVkZSIsImMiOjR9\" frameborder=\"0\" allowFullScreen=\"true\"></iframe>"
      ],
      "text/plain": [
       "<IPython.core.display.HTML object>"
      ]
     },
     "execution_count": 1,
     "metadata": {},
     "output_type": "execute_result"
    }
   ],
   "source": [
    "from IPython.display import HTML\n",
    "\n",
    "# URL del informe (reemplaza con tu enlace)\n",
    "dashboard_url = \"https://app.powerbi.com/reportEmbed?reportId=05136ecc-ff2d-4c9e-b6d1-3c62b4ba8693&autoAuth=true&ctid=1f810592-2b10-4d2f-9d1d-ca31b26915de\"\n",
    "\n",
    "# Crear el iframe con permisos adicionales\n",
    "iframe_code = f\"\"\"<iframe title=\"datos_prueba\" width=\"1140\" height=\"541.25\" src=\"https://app.powerbi.com/view?r=eyJrIjoiMWE0ZmM0NjQtMmE5Yy00MDVjLTgwNWYtYTFlMDE5OWIwNjUxIiwidCI6IjFmODEwNTkyLTJiMTAtNGQyZi05ZDFkLWNhMzFiMjY5MTVkZSIsImMiOjR9\" frameborder=\"0\" allowFullScreen=\"true\"></iframe>\"\"\"\n",
    "\n",
    "HTML(iframe_code)"
   ]
  },
  {
   "cell_type": "code",
   "execution_count": 2,
   "id": "71141b2a",
   "metadata": {
    "colab": {
     "base_uri": "https://localhost:8080/"
    },
    "execution": {
     "iopub.execute_input": "2025-04-02T21:29:05.379161Z",
     "iopub.status.busy": "2025-04-02T21:29:05.378749Z",
     "iopub.status.idle": "2025-04-02T21:29:06.501433Z",
     "shell.execute_reply": "2025-04-02T21:29:06.500589Z"
    },
    "id": "8kL6B_9Ghlni",
    "outputId": "94056215-8abe-48c7-ec12-401e0e08a164",
    "papermill": {
     "duration": 1.126085,
     "end_time": "2025-04-02T21:29:06.502890",
     "exception": false,
     "start_time": "2025-04-02T21:29:05.376805",
     "status": "completed"
    },
    "tags": []
   },
   "outputs": [
    {
     "name": "stdout",
     "output_type": "stream",
     "text": [
      "Collecting pytz\r\n"
     ]
    },
    {
     "name": "stdout",
     "output_type": "stream",
     "text": [
      "  Downloading pytz-2025.2-py2.py3-none-any.whl.metadata (22 kB)\r\n"
     ]
    },
    {
     "name": "stdout",
     "output_type": "stream",
     "text": [
      "Downloading pytz-2025.2-py2.py3-none-any.whl (509 kB)\r\n"
     ]
    },
    {
     "name": "stdout",
     "output_type": "stream",
     "text": [
      "Installing collected packages: pytz\r\n"
     ]
    },
    {
     "name": "stdout",
     "output_type": "stream",
     "text": [
      "Successfully installed pytz-2025.2\r\n"
     ]
    }
   ],
   "source": [
    "!pip install pytz"
   ]
  },
  {
   "cell_type": "code",
   "execution_count": 3,
   "id": "ac7af5e2",
   "metadata": {
    "colab": {
     "base_uri": "https://localhost:8080/"
    },
    "execution": {
     "iopub.execute_input": "2025-04-02T21:29:06.507737Z",
     "iopub.status.busy": "2025-04-02T21:29:06.507184Z",
     "iopub.status.idle": "2025-04-02T21:29:06.527123Z",
     "shell.execute_reply": "2025-04-02T21:29:06.526484Z"
    },
    "id": "6G1qojr1hlgR",
    "outputId": "40fcdbb3-ecc2-4bd5-ca13-43953c92bf1b",
    "papermill": {
     "duration": 0.02344,
     "end_time": "2025-04-02T21:29:06.528263",
     "exception": false,
     "start_time": "2025-04-02T21:29:06.504823",
     "status": "completed"
    },
    "tags": []
   },
   "outputs": [
    {
     "name": "stdout",
     "output_type": "stream",
     "text": [
      "Fecha y hora actual : 2025-04-02 16:29\n"
     ]
    }
   ],
   "source": [
    "from datetime import datetime\n",
    "import pytz\n",
    "\n",
    "def obtener_hora():\n",
    "    zona_horaria_peru = pytz.timezone(\"America/Lima\")\n",
    "    hora_actual_peru = datetime.now(zona_horaria_peru)\n",
    "    return hora_actual_peru.strftime(\"%Y-%m-%d %H:%M\")\n",
    "\n",
    "# Ejemplo de uso\n",
    "hora_peru = obtener_hora()\n",
    "print(\"Fecha y hora actual :\", hora_peru)\n"
   ]
  }
 ],
 "metadata": {
  "colab": {
   "authorship_tag": "ABX9TyM1Wz15DI8zlc4FjlihRLfa",
   "include_colab_link": true,
   "provenance": []
  },
  "kernelspec": {
   "display_name": "Python 3",
   "name": "python3"
  },
  "language_info": {
   "codemirror_mode": {
    "name": "ipython",
    "version": 3
   },
   "file_extension": ".py",
   "mimetype": "text/x-python",
   "name": "python",
   "nbconvert_exporter": "python",
   "pygments_lexer": "ipython3",
   "version": "3.9.21"
  },
  "papermill": {
   "default_parameters": {},
   "duration": 3.258442,
   "end_time": "2025-04-02T21:29:06.746608",
   "environment_variables": {},
   "exception": null,
   "input_path": "POWER_BI.ipynb",
   "output_path": "output.ipynb",
   "parameters": {},
   "start_time": "2025-04-02T21:29:03.488166",
   "version": "2.6.0"
  }
 },
 "nbformat": 4,
 "nbformat_minor": 5
}