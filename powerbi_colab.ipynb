{
  "nbformat": 4,
  "nbformat_minor": 0,
  "metadata": {
    "colab": {
      "provenance": [],
      "authorship_tag": "ABX9TyNH72Qafsu0YWsEraGXOr4A",
      "include_colab_link": true
    },
    "kernelspec": {
      "name": "python3",
      "display_name": "Python 3"
    },
    "language_info": {
      "name": "python"
    }
  },
  "cells": [
    {
      "cell_type": "markdown",
      "metadata": {
        "id": "view-in-github",
        "colab_type": "text"
      },
      "source": [
        "<a href=\"https://colab.research.google.com/github/yesicamilagros/nuevo-repositorio/blob/main/powerbi_colab.ipynb\" target=\"_parent\"><img src=\"https://colab.research.google.com/assets/colab-badge.svg\" alt=\"Open In Colab\"/></a>"
      ]
    },
    {
      "cell_type": "code",
      "execution_count": null,
      "metadata": {
        "id": "Yc_B3Eap7WQC",
        "outputId": "324e0f4f-3e75-4ab2-9b1e-45f39f3f6e15",
        "colab": {
          "base_uri": "https://localhost:8080/",
          "height": 563
        }
      },
      "outputs": [
        {
          "output_type": "execute_result",
          "data": {
            "text/plain": [
              "<IPython.core.display.HTML object>"
            ],
            "text/html": [
              "\n",
              "<iframe title=\"datos_prueba\" width=\"1140\" height=\"541.25\" src=\"https://app.powerbi.com/reportEmbed?reportId=05136ecc-ff2d-4c9e-b6d1-3c62b4ba8693&autoAuth=true&ctid=1f810592-2b10-4d2f-9d1d-ca31b26915de\" frameborder=\"0\" allowFullScreen=\"true\"></iframe>\n"
            ]
          },
          "metadata": {},
          "execution_count": 1
        }
      ],
      "source": [
        "from IPython.display import HTML\n",
        "\n",
        "# URL del informe (reemplaza con tu enlace)\n",
        "dashboard_url = \"https://app.powerbi.com/reportEmbed?reportId=05136ecc-ff2d-4c9e-b6d1-3c62b4ba8693&autoAuth=true&ctid=1f810592-2b10-4d2f-9d1d-ca31b26915de\"\n",
        "\n",
        "# Crear el iframe con permisos adicionales\n",
        "iframe_code = f\"\"\"\n",
        "<iframe title=\"datos_prueba\" width=\"1140\" height=\"541.25\" src=\"https://app.powerbi.com/reportEmbed?reportId=05136ecc-ff2d-4c9e-b6d1-3c62b4ba8693&autoAuth=true&ctid=1f810592-2b10-4d2f-9d1d-ca31b26915de\" frameborder=\"0\" allowFullScreen=\"true\"></iframe>\n",
        "\"\"\"\n",
        "\n",
        "HTML(iframe_code)"
      ]
    },
    {
      "cell_type": "code",
      "source": [
        "!pip install pytz"
      ],
      "metadata": {
        "colab": {
          "base_uri": "https://localhost:8080/"
        },
        "id": "0sazlbJjnWMa",
        "outputId": "4557efb8-f1ca-4807-eebb-04b5103e3fac"
      },
      "execution_count": null,
      "outputs": [
        {
          "output_type": "stream",
          "name": "stdout",
          "text": [
            "Requirement already satisfied: pytz in /usr/local/lib/python3.11/dist-packages (2024.2)\n"
          ]
        }
      ]
    },
    {
      "cell_type": "code",
      "source": [
        "from datetime import datetime\n",
        "import pytz\n",
        "\n",
        "def obtener_hora():\n",
        "    zona_horaria_peru = pytz.timezone(\"America/Lima\")\n",
        "    hora_actual_peru = datetime.now(zona_horaria_peru)\n",
        "    return hora_actual_peru.strftime(\"%Y-%m-%d %H:%M\")\n",
        "\n",
        "# Ejemplo de uso\n",
        "hora_peru = obtener_hora()\n",
        "print(\"Fecha y hora actual :\", hora_peru)\n",
        "\n"
      ],
      "metadata": {
        "colab": {
          "base_uri": "https://localhost:8080/"
        },
        "id": "afk5NMYOOSOW",
        "outputId": "4d621e4c-8cbc-4b61-89e7-b07bcbb4ef20"
      },
      "execution_count": null,
      "outputs": [
        {
          "output_type": "stream",
          "name": "stdout",
          "text": [
            "Fecha y hora actual : 2025-01-25 16:47\n"
          ]
        }
      ]
    }
  ]
}